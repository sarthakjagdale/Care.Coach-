{
 "cells": [
  {
   "cell_type": "code",
   "execution_count": 1,
   "metadata": {},
   "outputs": [
    {
     "name": "stdout",
     "output_type": "stream",
     "text": [
      "Total Duration during login and logout:  159\n",
      "Total time spent in simultaneous call:  51\n"
     ]
    }
   ],
   "source": [
    "\"\"\"\n",
    "#Created on Thu Oct-29-2020 at 12:15:00\n",
    "#@author: Sarthak Jagdale\n",
    "\n",
    "PYTHON\n",
    "\"\"\"\n",
    "\"\"\"\n",
    "DocString:\n",
    "Section A - Calculate the duration of HA b/w login and logout.\n",
    "\n",
    "Section B - How much time HA took 2 people in call.\n",
    "\n",
    "\n",
    "Bugs: Runs fine in my enviornment but not in code bunk | Python 3\n",
    "\"\"\"\n",
    "\n",
    "\n",
    "\n",
    "# A healthcare tech company has a number of activity records for each Health​\n",
    "# Advocate (each \"HA\"). Each activity record is represented by a list of​\n",
    "# 3-element tuples as follows:​\n",
    "\n",
    "\n",
    "\n",
    "activity = [\n",
    "    (1, '@login', None),\n",
    "    (5, '@startVideo', 'Bob'),\n",
    "    (20, '@startVideo', 'Thomas'),\n",
    "    (66, '@stopVideo', 'Thomas'),\n",
    "    (70, '@startVideo', 'Lily'),\n",
    "    (75, '@stopVideo', 'Bob'),\n",
    "    (78, '@stopVideo', 'Lily'),\n",
    "    (100, '@logout', None),\n",
    "    (150, '@login', None),\n",
    "    (160, '@startVideo', 'Thomas'),\n",
    "    (205, '@stopVideo', 'Thomas'),\n",
    "    (210, '@logout', None)\n",
    "        ]\n",
    "\n",
    "#print(activity)\n",
    "#print(len(activity))\n",
    "\n",
    "\n",
    "a=0  # var to get login time\n",
    "b=0  # var to get logout time\n",
    "sum=0# var to get total time\n",
    "\n",
    "\n",
    "\n",
    "\n",
    "\n",
    "\n",
    "\n",
    "########################### For Part A #######################\n",
    "for var in activity:\n",
    "    #print(var)\n",
    "    #print(var[0],var[1],var[2])\n",
    "    if var[1]==\"@login\":\n",
    "        a=var[0]\n",
    "        #log_list.append(var[0])\n",
    "    elif var[1]==\"@logout\":\n",
    "        b=var[0]\n",
    "        c=b-a\n",
    "        sum=sum+c\n",
    "print(\"Total Duration during login and logout: \",sum)\n",
    "\n",
    "\n",
    "\n",
    "# For the above example, the correct result for (A) is 159 (1 to 100, 150 to 210)\n",
    "\n",
    "\n",
    "\n",
    "#####################  For Part B ######################\n",
    "\n",
    "counter=0\n",
    "check=0\n",
    "sum=0\n",
    "for var in activity:\n",
    "\n",
    "    if var[1]==\"@startVideo\":\n",
    "        counter=counter+1\n",
    "    elif var[1]==\"@stopVideo\":\n",
    "        counter=counter-1\n",
    "    if counter==2:\n",
    "        a=var[0]  ##  using a to hold stating time of simultaneouly call\n",
    "        #print(a,\"Strarting\")\n",
    "    elif counter==1 and var[1]==\"@stopVideo\":\n",
    "        b=var[0]\n",
    "        #print(b,\"Ending\")\n",
    "        c=b-a\n",
    "        sum=sum+c\n",
    "\n",
    "# and the correct result for (B) is 51 (20 to 66, 70 to 75).\n",
    "\n",
    "print(\"Total time spent in simultaneous call: \",sum)\n"
   ]
  }
 ],
 "metadata": {
  "hide_input": false,
  "kernelspec": {
   "display_name": "Python 3",
   "language": "python",
   "name": "python3"
  },
  "language_info": {
   "codemirror_mode": {
    "name": "ipython",
    "version": 3
   },
   "file_extension": ".py",
   "mimetype": "text/x-python",
   "name": "python",
   "nbconvert_exporter": "python",
   "pygments_lexer": "ipython3",
   "version": "3.7.6"
  },
  "toc": {
   "base_numbering": 1,
   "nav_menu": {},
   "number_sections": true,
   "sideBar": true,
   "skip_h1_title": false,
   "title_cell": "Table of Contents",
   "title_sidebar": "Contents",
   "toc_cell": false,
   "toc_position": {},
   "toc_section_display": true,
   "toc_window_display": false
  },
  "varInspector": {
   "cols": {
    "lenName": 16,
    "lenType": 16,
    "lenVar": 40
   },
   "kernels_config": {
    "python": {
     "delete_cmd_postfix": "",
     "delete_cmd_prefix": "del ",
     "library": "var_list.py",
     "varRefreshCmd": "print(var_dic_list())"
    },
    "r": {
     "delete_cmd_postfix": ") ",
     "delete_cmd_prefix": "rm(",
     "library": "var_list.r",
     "varRefreshCmd": "cat(var_dic_list()) "
    }
   },
   "types_to_exclude": [
    "module",
    "function",
    "builtin_function_or_method",
    "instance",
    "_Feature"
   ],
   "window_display": false
  }
 },
 "nbformat": 4,
 "nbformat_minor": 4
}
